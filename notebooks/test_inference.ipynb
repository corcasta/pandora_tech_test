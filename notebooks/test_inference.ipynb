{
 "cells": [
  {
   "cell_type": "code",
   "execution_count": null,
   "id": "89aec34a",
   "metadata": {},
   "outputs": [
    {
     "data": {
      "text/plain": [
       "{'2': {'week_0': '95.87631',\n",
       "  'week_1': '231.82903',\n",
       "  'week_2': '191.76804',\n",
       "  'week_3': '150.64726'}}"
      ]
     },
     "execution_count": 1,
     "metadata": {},
     "output_type": "execute_result"
    }
   ],
   "source": [
    "import json\n",
    "import requests\n",
    "\n",
    "url = \"http://localhost:8000/predict\"\n",
    "\n",
    "data = {\n",
    "    'metadata': json.dumps({\"product_id\": [2]})\n",
    "}\n",
    "\n",
    "\n",
    "files = {\n",
    "    \"file\": (\n",
    "        \"data.csv\",             \n",
    "        open(\"/home/corcasta/projects/pandora_interview/data/demo.csv\", \"rb\"), # file handle\n",
    "        \"text/csv\"             \n",
    "    )\n",
    "}\n",
    "\n",
    "response = requests.post(url, data=data, files=files)\n",
    "json.loads(response.content)"
   ]
  },
  {
   "cell_type": "code",
   "execution_count": null,
   "id": "4f5f1954",
   "metadata": {},
   "outputs": [],
   "source": []
  }
 ],
 "metadata": {
  "kernelspec": {
   "display_name": "farama",
   "language": "python",
   "name": "python3"
  },
  "language_info": {
   "codemirror_mode": {
    "name": "ipython",
    "version": 3
   },
   "file_extension": ".py",
   "mimetype": "text/x-python",
   "name": "python",
   "nbconvert_exporter": "python",
   "pygments_lexer": "ipython3",
   "version": "3.10.14"
  }
 },
 "nbformat": 4,
 "nbformat_minor": 5
}
