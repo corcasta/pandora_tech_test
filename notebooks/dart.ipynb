{
 "cells": [
  {
   "cell_type": "code",
   "execution_count": 38,
   "id": "d7123f6b",
   "metadata": {},
   "outputs": [],
   "source": [
    "import pandas as pd\n",
    "from darts.models import NBEATSModel\n",
    "from darts.utils.likelihood_models.torch import LaplaceLikelihood\n",
    "from darts.utils.callbacks import TFMProgressBar\n",
    "from darts import TimeSeries"
   ]
  },
  {
   "cell_type": "code",
   "execution_count": 39,
   "id": "1b00086a",
   "metadata": {},
   "outputs": [],
   "source": [
    "df = pd.read_csv(\"output.csv\")"
   ]
  },
  {
   "cell_type": "code",
   "execution_count": 40,
   "id": "ed569ea8",
   "metadata": {},
   "outputs": [
    {
     "data": {
      "application/vnd.microsoft.datawrangler.viewer.v0+json": {
       "columns": [
        {
         "name": "index",
         "rawType": "int64",
         "type": "integer"
        },
        {
         "name": "Age",
         "rawType": "float64",
         "type": "float"
        },
        {
         "name": "Male",
         "rawType": "int64",
         "type": "integer"
        },
        {
         "name": "Female",
         "rawType": "int64",
         "type": "integer"
        },
        {
         "name": "Quantity",
         "rawType": "int64",
         "type": "integer"
        },
        {
         "name": "Product_ID",
         "rawType": "int64",
         "type": "integer"
        },
        {
         "name": "Price_per_Unit",
         "rawType": "int64",
         "type": "integer"
        },
        {
         "name": "Time_Unitless",
         "rawType": "int64",
         "type": "integer"
        },
        {
         "name": "Year",
         "rawType": "int64",
         "type": "integer"
        },
        {
         "name": "Month",
         "rawType": "int64",
         "type": "integer"
        },
        {
         "name": "Week",
         "rawType": "int64",
         "type": "integer"
        },
        {
         "name": "Window_Mean_4",
         "rawType": "float64",
         "type": "float"
        },
        {
         "name": "Window_Mean_5",
         "rawType": "float64",
         "type": "float"
        },
        {
         "name": "Window_Mean_6",
         "rawType": "float64",
         "type": "float"
        },
        {
         "name": "Window_Mean_7",
         "rawType": "float64",
         "type": "float"
        }
       ],
       "conversionMethod": "pd.DataFrame",
       "ref": "33c78639-93a5-4cc6-a377-32e66ae4e035",
       "rows": [
        [
         "0",
         "19.0",
         "0",
         "1",
         "1",
         "0",
         "25",
         "0",
         "2023",
         "1",
         "1",
         "81.25",
         "80.0",
         "70.83",
         "78.57"
        ],
        [
         "1",
         "19.0",
         "1",
         "0",
         "2",
         "0",
         "25",
         "1",
         "2023",
         "1",
         "2",
         "81.25",
         "80.0",
         "70.83",
         "78.57"
        ],
        [
         "2",
         "34.0",
         "1",
         "2",
         "10",
         "0",
         "25",
         "2",
         "2023",
         "1",
         "3",
         "81.25",
         "80.0",
         "70.83",
         "78.57"
        ],
        [
         "3",
         "0.0",
         "0",
         "0",
         "0",
         "0",
         "25",
         "3",
         "2023",
         "1",
         "4",
         "81.25",
         "80.0",
         "70.83",
         "78.57"
        ],
        [
         "4",
         "23.0",
         "0",
         "1",
         "3",
         "0",
         "25",
         "4",
         "2023",
         "1",
         "5",
         "93.75",
         "80.0",
         "70.83",
         "78.57"
        ]
       ],
       "shape": {
        "columns": 14,
        "rows": 5
       }
      },
      "text/html": [
       "<div>\n",
       "<style scoped>\n",
       "    .dataframe tbody tr th:only-of-type {\n",
       "        vertical-align: middle;\n",
       "    }\n",
       "\n",
       "    .dataframe tbody tr th {\n",
       "        vertical-align: top;\n",
       "    }\n",
       "\n",
       "    .dataframe thead th {\n",
       "        text-align: right;\n",
       "    }\n",
       "</style>\n",
       "<table border=\"1\" class=\"dataframe\">\n",
       "  <thead>\n",
       "    <tr style=\"text-align: right;\">\n",
       "      <th></th>\n",
       "      <th>Age</th>\n",
       "      <th>Male</th>\n",
       "      <th>Female</th>\n",
       "      <th>Quantity</th>\n",
       "      <th>Product_ID</th>\n",
       "      <th>Price_per_Unit</th>\n",
       "      <th>Time_Unitless</th>\n",
       "      <th>Year</th>\n",
       "      <th>Month</th>\n",
       "      <th>Week</th>\n",
       "      <th>Window_Mean_4</th>\n",
       "      <th>Window_Mean_5</th>\n",
       "      <th>Window_Mean_6</th>\n",
       "      <th>Window_Mean_7</th>\n",
       "    </tr>\n",
       "  </thead>\n",
       "  <tbody>\n",
       "    <tr>\n",
       "      <th>0</th>\n",
       "      <td>19.0</td>\n",
       "      <td>0</td>\n",
       "      <td>1</td>\n",
       "      <td>1</td>\n",
       "      <td>0</td>\n",
       "      <td>25</td>\n",
       "      <td>0</td>\n",
       "      <td>2023</td>\n",
       "      <td>1</td>\n",
       "      <td>1</td>\n",
       "      <td>81.25</td>\n",
       "      <td>80.0</td>\n",
       "      <td>70.83</td>\n",
       "      <td>78.57</td>\n",
       "    </tr>\n",
       "    <tr>\n",
       "      <th>1</th>\n",
       "      <td>19.0</td>\n",
       "      <td>1</td>\n",
       "      <td>0</td>\n",
       "      <td>2</td>\n",
       "      <td>0</td>\n",
       "      <td>25</td>\n",
       "      <td>1</td>\n",
       "      <td>2023</td>\n",
       "      <td>1</td>\n",
       "      <td>2</td>\n",
       "      <td>81.25</td>\n",
       "      <td>80.0</td>\n",
       "      <td>70.83</td>\n",
       "      <td>78.57</td>\n",
       "    </tr>\n",
       "    <tr>\n",
       "      <th>2</th>\n",
       "      <td>34.0</td>\n",
       "      <td>1</td>\n",
       "      <td>2</td>\n",
       "      <td>10</td>\n",
       "      <td>0</td>\n",
       "      <td>25</td>\n",
       "      <td>2</td>\n",
       "      <td>2023</td>\n",
       "      <td>1</td>\n",
       "      <td>3</td>\n",
       "      <td>81.25</td>\n",
       "      <td>80.0</td>\n",
       "      <td>70.83</td>\n",
       "      <td>78.57</td>\n",
       "    </tr>\n",
       "    <tr>\n",
       "      <th>3</th>\n",
       "      <td>0.0</td>\n",
       "      <td>0</td>\n",
       "      <td>0</td>\n",
       "      <td>0</td>\n",
       "      <td>0</td>\n",
       "      <td>25</td>\n",
       "      <td>3</td>\n",
       "      <td>2023</td>\n",
       "      <td>1</td>\n",
       "      <td>4</td>\n",
       "      <td>81.25</td>\n",
       "      <td>80.0</td>\n",
       "      <td>70.83</td>\n",
       "      <td>78.57</td>\n",
       "    </tr>\n",
       "    <tr>\n",
       "      <th>4</th>\n",
       "      <td>23.0</td>\n",
       "      <td>0</td>\n",
       "      <td>1</td>\n",
       "      <td>3</td>\n",
       "      <td>0</td>\n",
       "      <td>25</td>\n",
       "      <td>4</td>\n",
       "      <td>2023</td>\n",
       "      <td>1</td>\n",
       "      <td>5</td>\n",
       "      <td>93.75</td>\n",
       "      <td>80.0</td>\n",
       "      <td>70.83</td>\n",
       "      <td>78.57</td>\n",
       "    </tr>\n",
       "  </tbody>\n",
       "</table>\n",
       "</div>"
      ],
      "text/plain": [
       "    Age  Male  Female  Quantity  Product_ID  Price_per_Unit  Time_Unitless  \\\n",
       "0  19.0     0       1         1           0              25              0   \n",
       "1  19.0     1       0         2           0              25              1   \n",
       "2  34.0     1       2        10           0              25              2   \n",
       "3   0.0     0       0         0           0              25              3   \n",
       "4  23.0     0       1         3           0              25              4   \n",
       "\n",
       "   Year  Month  Week  Window_Mean_4  Window_Mean_5  Window_Mean_6  \\\n",
       "0  2023      1     1          81.25           80.0          70.83   \n",
       "1  2023      1     2          81.25           80.0          70.83   \n",
       "2  2023      1     3          81.25           80.0          70.83   \n",
       "3  2023      1     4          81.25           80.0          70.83   \n",
       "4  2023      1     5          93.75           80.0          70.83   \n",
       "\n",
       "   Window_Mean_7  \n",
       "0          78.57  \n",
       "1          78.57  \n",
       "2          78.57  \n",
       "3          78.57  \n",
       "4          78.57  "
      ]
     },
     "execution_count": 40,
     "metadata": {},
     "output_type": "execute_result"
    }
   ],
   "source": [
    "df0 = df[df[\"Product_ID\"]==0]\n",
    "df0.pop(\"Product_Category\")\n",
    "df0_target = df0.loc[:,[\"Time_Unitless\", \"Total_Amount\"]]\n",
    "df0.pop(\"Total_Amount\")\n",
    "df0.head()"
   ]
  },
  {
   "cell_type": "code",
   "execution_count": 41,
   "id": "daf25b6c",
   "metadata": {},
   "outputs": [],
   "source": [
    "target0 = TimeSeries.from_dataframe(df0_target, time_col=\"Time_Unitless\")\n",
    "covariates0 = TimeSeries.from_dataframe(df0, time_col=\"Time_Unitless\")"
   ]
  },
  {
   "cell_type": "code",
   "execution_count": 42,
   "id": "5bdb4acb",
   "metadata": {},
   "outputs": [],
   "source": [
    "def generate_torch_kwargs():\n",
    "    # run torch models on CPU, and disable progress bars for all model stages except training.\n",
    "    return {\n",
    "        \"pl_trainer_kwargs\": {\n",
    "            \"accelerator\": \"cpu\",\n",
    "            \"callbacks\": [TFMProgressBar(enable_train_bar_only=True)],\n",
    "        }\n",
    "    }"
   ]
  },
  {
   "cell_type": "code",
   "execution_count": 43,
   "id": "88e8d45f",
   "metadata": {},
   "outputs": [],
   "source": [
    "model = NBEATSModel(\n",
    "    input_chunk_length=8,\n",
    "    output_chunk_length=4,\n",
    "    n_epochs=100,\n",
    "    random_state=0,\n",
    "    **generate_torch_kwargs(),\n",
    ")"
   ]
  },
  {
   "cell_type": "code",
   "execution_count": 44,
   "id": "bb91192c",
   "metadata": {},
   "outputs": [
    {
     "name": "stderr",
     "output_type": "stream",
     "text": [
      "GPU available: True (cuda), used: False\n",
      "TPU available: False, using: 0 TPU cores\n",
      "HPU available: False, using: 0 HPUs\n",
      "/home/corcasta/miniconda3/envs/farama/lib/python3.10/site-packages/pytorch_lightning/trainer/setup.py:177: GPU available but not used. You can set it by doing `Trainer(accelerator='gpu')`.\n",
      "\n",
      "  | Name            | Type             | Params | Mode \n",
      "-------------------------------------------------------------\n",
      "0 | criterion       | MSELoss          | 0      | train\n",
      "1 | train_criterion | MSELoss          | 0      | train\n",
      "2 | val_criterion   | MSELoss          | 0      | train\n",
      "3 | train_metrics   | MetricCollection | 0      | train\n",
      "4 | val_metrics     | MetricCollection | 0      | train\n",
      "5 | stacks          | ModuleList       | 6.9 M  | train\n",
      "-------------------------------------------------------------\n",
      "6.9 M     Trainable params\n",
      "2.0 K     Non-trainable params\n",
      "6.9 M     Total params\n",
      "27.586    Total estimated model params size (MB)\n",
      "396       Modules in train mode\n",
      "0         Modules in eval mode\n"
     ]
    },
    {
     "name": "stdout",
     "output_type": "stream",
     "text": [
      "Epoch 399: 100%|██████████| 2/2 [00:00<00:00,  9.14it/s, train_loss=6.87e-5] "
     ]
    },
    {
     "name": "stderr",
     "output_type": "stream",
     "text": [
      "`Trainer.fit` stopped: `max_epochs=400` reached.\n"
     ]
    },
    {
     "name": "stdout",
     "output_type": "stream",
     "text": [
      "Epoch 399: 100%|██████████| 2/2 [00:00<00:00,  9.09it/s, train_loss=6.87e-5]\n"
     ]
    },
    {
     "data": {
      "text/plain": [
       "NBEATSModel(output_chunk_shift=0, generic_architecture=True, num_stacks=30, num_blocks=1, num_layers=4, layer_widths=256, expansion_coefficient_dim=5, trend_polynomial_degree=2, dropout=0.0, activation=ReLU, input_chunk_length=8, output_chunk_length=4, n_epochs=100, random_state=0, pl_trainer_kwargs={'accelerator': 'cpu', 'callbacks': [<darts.utils.callbacks.TFMProgressBar object at 0x793563418bb0>]})"
      ]
     },
     "execution_count": 44,
     "metadata": {},
     "output_type": "execute_result"
    }
   ],
   "source": [
    "model.fit(\n",
    "    target0, \n",
    "    epochs=400, \n",
    "    verbose=True,\n",
    "    past_covariates=[covariates0]\n",
    ")"
   ]
  },
  {
   "cell_type": "code",
   "execution_count": 60,
   "id": "7a421bd8",
   "metadata": {},
   "outputs": [
    {
     "name": "stderr",
     "output_type": "stream",
     "text": [
      "GPU available: True (cuda), used: False\n",
      "TPU available: False, using: 0 TPU cores\n",
      "HPU available: False, using: 0 HPUs\n",
      "/home/corcasta/miniconda3/envs/farama/lib/python3.10/site-packages/pytorch_lightning/trainer/setup.py:177: GPU available but not used. You can set it by doing `Trainer(accelerator='gpu')`.\n"
     ]
    }
   ],
   "source": [
    "pred = model.predict(\n",
    "    n=4,\n",
    "    series=valid_series,\n",
    "    past_covariates=[valid_covariates]\n",
    ")"
   ]
  },
  {
   "cell_type": "code",
   "execution_count": 61,
   "id": "f4d6bb0c",
   "metadata": {},
   "outputs": [
    {
     "data": {
      "text/plain": [
       "<Axes: xlabel='Time_Unitless'>"
      ]
     },
     "execution_count": 61,
     "metadata": {},
     "output_type": "execute_result"
    },
    {
     "data": {
      "image/png": "[encoded data removed]",
      "text/plain": [
       "<Figure size 640x480 with 1 Axes>"
      ]
     },
     "metadata": {},
     "output_type": "display_data"
    }
   ],
   "source": [
    "\n",
    "pred.plot()"
   ]
  },
  {
   "cell_type": "code",
   "execution_count": 62,
   "id": "82d071bd",
   "metadata": {},
   "outputs": [
    {
     "data": {
      "application/vnd.microsoft.datawrangler.viewer.v0+json": {
       "columns": [
        {
         "name": "index",
         "rawType": "int64",
         "type": "integer"
        },
        {
         "name": "Time_Unitless",
         "rawType": "int64",
         "type": "integer"
        },
        {
         "name": "Total_Amount",
         "rawType": "int64",
         "type": "integer"
        }
       ],
       "conversionMethod": "pd.DataFrame",
       "ref": "da8d2298-8700-441d-b7b1-2f3cd81f12f9",
       "rows": [
        [
         "44",
         "44",
         "0"
        ],
        [
         "45",
         "45",
         "25"
        ],
        [
         "46",
         "46",
         "100"
        ],
        [
         "47",
         "47",
         "150"
        ],
        [
         "48",
         "48",
         "25"
        ],
        [
         "49",
         "49",
         "175"
        ],
        [
         "50",
         "50",
         "50"
        ],
        [
         "51",
         "51",
         "25"
        ]
       ],
       "shape": {
        "columns": 2,
        "rows": 8
       }
      },
      "text/html": [
       "<div>\n",
       "<style scoped>\n",
       "    .dataframe tbody tr th:only-of-type {\n",
       "        vertical-align: middle;\n",
       "    }\n",
       "\n",
       "    .dataframe tbody tr th {\n",
       "        vertical-align: top;\n",
       "    }\n",
       "\n",
       "    .dataframe thead th {\n",
       "        text-align: right;\n",
       "    }\n",
       "</style>\n",
       "<table border=\"1\" class=\"dataframe\">\n",
       "  <thead>\n",
       "    <tr style=\"text-align: right;\">\n",
       "      <th></th>\n",
       "      <th>Time_Unitless</th>\n",
       "      <th>Total_Amount</th>\n",
       "    </tr>\n",
       "  </thead>\n",
       "  <tbody>\n",
       "    <tr>\n",
       "      <th>44</th>\n",
       "      <td>44</td>\n",
       "      <td>0</td>\n",
       "    </tr>\n",
       "    <tr>\n",
       "      <th>45</th>\n",
       "      <td>45</td>\n",
       "      <td>25</td>\n",
       "    </tr>\n",
       "    <tr>\n",
       "      <th>46</th>\n",
       "      <td>46</td>\n",
       "      <td>100</td>\n",
       "    </tr>\n",
       "    <tr>\n",
       "      <th>47</th>\n",
       "      <td>47</td>\n",
       "      <td>150</td>\n",
       "    </tr>\n",
       "    <tr>\n",
       "      <th>48</th>\n",
       "      <td>48</td>\n",
       "      <td>25</td>\n",
       "    </tr>\n",
       "    <tr>\n",
       "      <th>49</th>\n",
       "      <td>49</td>\n",
       "      <td>175</td>\n",
       "    </tr>\n",
       "    <tr>\n",
       "      <th>50</th>\n",
       "      <td>50</td>\n",
       "      <td>50</td>\n",
       "    </tr>\n",
       "    <tr>\n",
       "      <th>51</th>\n",
       "      <td>51</td>\n",
       "      <td>25</td>\n",
       "    </tr>\n",
       "  </tbody>\n",
       "</table>\n",
       "</div>"
      ],
      "text/plain": [
       "    Time_Unitless  Total_Amount\n",
       "44             44             0\n",
       "45             45            25\n",
       "46             46           100\n",
       "47             47           150\n",
       "48             48            25\n",
       "49             49           175\n",
       "50             50            50\n",
       "51             51            25"
      ]
     },
     "execution_count": 62,
     "metadata": {},
     "output_type": "execute_result"
    }
   ],
   "source": [
    "df0_target.iloc[-8:,:]"
   ]
  },
  {
   "cell_type": "code",
   "execution_count": 63,
   "id": "52ca69fc",
   "metadata": {},
   "outputs": [],
   "source": [
    "valid_series = TimeSeries.from_dataframe(df0_target.iloc[-16:-8,:], time_col=\"Time_Unitless\")\n",
    "valid_covariates = TimeSeries.from_dataframe(df0.iloc[-16:-8:,:], time_col=\"Time_Unitless\")"
   ]
  },
  {
   "cell_type": "code",
   "execution_count": 57,
   "id": "26c7267a",
   "metadata": {},
   "outputs": [
    {
     "data": {
      "text/plain": [
       "<Axes: xlabel='Time_Unitless'>"
      ]
     },
     "execution_count": 57,
     "metadata": {},
     "output_type": "execute_result"
    },
    {
     "data": {
      "image/png": "[encoded data removed]",
      "text/plain": [
       "<Figure size 640x480 with 1 Axes>"
      ]
     },
     "metadata": {},
     "output_type": "display_data"
    }
   ],
   "source": [
    "valid_series.plot()"
   ]
  },
  {
   "cell_type": "code",
   "execution_count": null,
   "id": "98d7c8d8",
   "metadata": {},
   "outputs": [],
   "source": []
  },
  {
   "cell_type": "code",
   "execution_count": null,
   "id": "89b9cc84",
   "metadata": {},
   "outputs": [],
   "source": []
  }
 ],
 "metadata": {
  "kernelspec": {
   "display_name": "farama",
   "language": "python",
   "name": "python3"
  },
  "language_info": {
   "codemirror_mode": {
    "name": "ipython",
    "version": 3
   },
   "file_extension": ".py",
   "mimetype": "text/x-python",
   "name": "python",
   "nbconvert_exporter": "python",
   "pygments_lexer": "ipython3",
   "version": "3.10.14"
  }
 },
 "nbformat": 4,
 "nbformat_minor": 5
}
